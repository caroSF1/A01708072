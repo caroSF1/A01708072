{
  "nbformat": 4,
  "nbformat_minor": 0,
  "metadata": {
    "colab": {
      "provenance": [],
      "authorship_tag": "ABX9TyPoBuOZH9995jqjIXfDyEsY",
      "include_colab_link": true
    },
    "kernelspec": {
      "name": "python3",
      "display_name": "Python 3"
    },
    "language_info": {
      "name": "python"
    }
  },
  "cells": [
    {
      "cell_type": "markdown",
      "metadata": {
        "id": "view-in-github",
        "colab_type": "text"
      },
      "source": [
        "<a href=\"https://colab.research.google.com/github/caroSF1/A01708072/blob/main/EvidenciaFinal_UF6_A01708072.ipynb\" target=\"_parent\"><img src=\"https://colab.research.google.com/assets/colab-badge.svg\" alt=\"Open In Colab\"/></a>"
      ]
    },
    {
      "cell_type": "code",
      "execution_count": 8,
      "metadata": {
        "id": "CPvjP6Zaxvg6"
      },
      "outputs": [],
      "source": [
        "import pandas as pd\n",
        "import streamlit as st\n",
        "import numpy as np\n",
        "import plotly as px\n",
        "import plotly.figure_factory as ff\n",
        "from bokeh.plotting import figure\n",
        "import streamlit as st\n",
        "import pandas as pd\n",
        "#import numpy as np\n",
        "#import plotly as px\n",
        "#import plotly.figure_factory as ff\n",
        "#from bokeh.plotting import figure\n",
        "#import matplotlib.pyplot as plt\n"
      ]
    },
    {
      "cell_type": "code",
      "source": [
        "df = pd.read_csv(\"Police_Department_Incident_Reports__2018_to_Present.csv\")"
      ],
      "metadata": {
        "id": "TRlXpQASHf0K"
      },
      "execution_count": 12,
      "outputs": []
    },
    {
      "cell_type": "code",
      "source": [
        "st.markdown('The data shown below belongs to incident reports in the city of San Francisco, from the year 2018 to 2020, with details from each case such as date, day of the week, police district, neighborhood in which it happened, type of incident in category and subcategory, exact location and resolution.')\n",
        "\n",
        "mapa = pd.DataFrame()\n",
        "mapa['Date'] = df['Incident Date']\n",
        "mapa['Day'] = df['Incident Day of Week']\n",
        "mapa['Police District'] = df['Police District']\n",
        "mapa['Neighborhood'] = df['Analysis Neighborhood']\n",
        "mapa['Incident Category'] = df['Incident Category']\n",
        "mapa['Incident Subcategory'] = df['Incident Subcategory']\n",
        "mapa['Resolution'] = df['Resolution']\n",
        "mapa['lat'] = df['Latitude']\n",
        "mapa['lon'] = df['Longitude']\n",
        "mapa = mapa.dropna()"
      ],
      "metadata": {
        "id": "Gcm7QnQ6EeNa"
      },
      "execution_count": 11,
      "outputs": []
    }
  ]
}